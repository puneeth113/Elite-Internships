{
 "cells": [
  {
   "cell_type": "code",
   "execution_count": 93,
   "id": "4cc60cf1-a845-4b48-8bae-95bf6b0699cf",
   "metadata": {},
   "outputs": [
    {
     "name": "stderr",
     "output_type": "stream",
     "text": [
      "[nltk_data] Downloading package punkt to\n",
      "[nltk_data]     C:\\Users\\punee\\AppData\\Roaming\\nltk_data...\n",
      "[nltk_data]   Package punkt is already up-to-date!\n"
     ]
    }
   ],
   "source": [
    "import numpy as np\n",
    "import pandas as pd\n",
    "import matplotlib.pyplot as plt\n",
    "import seaborn as sns\n",
    "from textblob import TextBlob\n",
    "from nltk.sentiment import sentiment_analyzer\n",
    "from nltk.tokenize import word_tokenize\n",
    "import nltk\n",
    "nltk.download(\"punkt\")\n",
    "plt.style.use(\"ggplot\")"
   ]
  },
  {
   "cell_type": "code",
   "execution_count": 85,
   "id": "fc6e9774-6e50-45d4-97df-d3fb97fa2059",
   "metadata": {},
   "outputs": [
    {
     "data": {
      "text/plain": [
       "['Solarize_Light2',\n",
       " '_classic_test_patch',\n",
       " '_mpl-gallery',\n",
       " '_mpl-gallery-nogrid',\n",
       " 'bmh',\n",
       " 'classic',\n",
       " 'dark_background',\n",
       " 'fast',\n",
       " 'fivethirtyeight',\n",
       " 'ggplot',\n",
       " 'grayscale',\n",
       " 'seaborn-v0_8',\n",
       " 'seaborn-v0_8-bright',\n",
       " 'seaborn-v0_8-colorblind',\n",
       " 'seaborn-v0_8-dark',\n",
       " 'seaborn-v0_8-dark-palette',\n",
       " 'seaborn-v0_8-darkgrid',\n",
       " 'seaborn-v0_8-deep',\n",
       " 'seaborn-v0_8-muted',\n",
       " 'seaborn-v0_8-notebook',\n",
       " 'seaborn-v0_8-paper',\n",
       " 'seaborn-v0_8-pastel',\n",
       " 'seaborn-v0_8-poster',\n",
       " 'seaborn-v0_8-talk',\n",
       " 'seaborn-v0_8-ticks',\n",
       " 'seaborn-v0_8-white',\n",
       " 'seaborn-v0_8-whitegrid',\n",
       " 'tableau-colorblind10']"
      ]
     },
     "execution_count": 85,
     "metadata": {},
     "output_type": "execute_result"
    }
   ],
   "source": [
    "plt.style.available"
   ]
  },
  {
   "cell_type": "code",
   "execution_count": 115,
   "id": "3503845d-e688-4fc0-9ed3-3b34b8d904f9",
   "metadata": {},
   "outputs": [],
   "source": [
    "# importing the data \n",
    "\n",
    "data = pd.read_csv(r\"C:\\Users\\punee\\Downloads\\product review\\Reviews.csv\")"
   ]
  },
  {
   "cell_type": "code",
   "execution_count": 116,
   "id": "4a2da981-0dc3-443f-ac58-afb36094073f",
   "metadata": {},
   "outputs": [
    {
     "data": {
      "text/plain": [
       "(568454, 10)"
      ]
     },
     "execution_count": 116,
     "metadata": {},
     "output_type": "execute_result"
    }
   ],
   "source": [
    "# cleaning and preprocessing\n",
    "\n",
    "data.shape\n",
    "\n",
    "# return number of  rows and number of columns "
   ]
  },
  {
   "cell_type": "code",
   "execution_count": 117,
   "id": "2b1ba5d7-ad65-44dd-82c2-76212dfb2f5d",
   "metadata": {},
   "outputs": [
    {
     "name": "stdout",
     "output_type": "stream",
     "text": [
      "<class 'pandas.core.frame.DataFrame'>\n",
      "RangeIndex: 568454 entries, 0 to 568453\n",
      "Data columns (total 10 columns):\n",
      " #   Column                  Non-Null Count   Dtype \n",
      "---  ------                  --------------   ----- \n",
      " 0   Id                      568454 non-null  int64 \n",
      " 1   ProductId               568454 non-null  object\n",
      " 2   UserId                  568454 non-null  object\n",
      " 3   ProfileName             568428 non-null  object\n",
      " 4   HelpfulnessNumerator    568454 non-null  int64 \n",
      " 5   HelpfulnessDenominator  568454 non-null  int64 \n",
      " 6   Score                   568454 non-null  int64 \n",
      " 7   Time                    568454 non-null  int64 \n",
      " 8   Summary                 568427 non-null  object\n",
      " 9   Text                    568454 non-null  object\n",
      "dtypes: int64(5), object(5)\n",
      "memory usage: 43.4+ MB\n"
     ]
    }
   ],
   "source": [
    "data.info()"
   ]
  },
  {
   "cell_type": "code",
   "execution_count": 9,
   "id": "01b1329b-cefd-416f-ba0b-0de3d4f52f36",
   "metadata": {},
   "outputs": [],
   "source": []
  },
  {
   "cell_type": "code",
   "execution_count": 6,
   "id": "33f6575c-3c8e-46bb-9c17-cb28324d4239",
   "metadata": {},
   "outputs": [
    {
     "data": {
      "text/plain": [
       "Id                         0\n",
       "ProductId                  0\n",
       "UserId                     0\n",
       "ProfileName               26\n",
       "HelpfulnessNumerator       0\n",
       "HelpfulnessDenominator     0\n",
       "Score                      0\n",
       "Time                       0\n",
       "Summary                   27\n",
       "Text                       0\n",
       "dtype: int64"
      ]
     },
     "execution_count": 6,
     "metadata": {},
     "output_type": "execute_result"
    }
   ],
   "source": [
    "# checking for null values \n",
    "data.isnull().sum()"
   ]
  },
  {
   "cell_type": "code",
   "execution_count": 11,
   "id": "6dcd2a50-7941-4315-bd6e-c567d477e70d",
   "metadata": {},
   "outputs": [],
   "source": [
    "# droping the data \n",
    "\n",
    "data_updated =data.dropna()"
   ]
  },
  {
   "cell_type": "code",
   "execution_count": 13,
   "id": "b5853035-0917-4128-8427-93474c69e956",
   "metadata": {},
   "outputs": [
    {
     "data": {
      "text/plain": [
       "Id                        0\n",
       "ProductId                 0\n",
       "UserId                    0\n",
       "ProfileName               0\n",
       "HelpfulnessNumerator      0\n",
       "HelpfulnessDenominator    0\n",
       "Score                     0\n",
       "Time                      0\n",
       "Summary                   0\n",
       "Text                      0\n",
       "dtype: int64"
      ]
     },
     "execution_count": 13,
     "metadata": {},
     "output_type": "execute_result"
    }
   ],
   "source": [
    "data_updated.isna().sum()"
   ]
  },
  {
   "cell_type": "code",
   "execution_count": 15,
   "id": "3bf8268f-b183-409c-825f-c620da79c0a8",
   "metadata": {},
   "outputs": [
    {
     "data": {
      "text/plain": [
       "Id                        0\n",
       "ProductId                 0\n",
       "UserId                    0\n",
       "ProfileName               0\n",
       "HelpfulnessNumerator      0\n",
       "HelpfulnessDenominator    0\n",
       "Score                     0\n",
       "Time                      0\n",
       "Summary                   0\n",
       "Text                      0\n",
       "dtype: int64"
      ]
     },
     "execution_count": 15,
     "metadata": {},
     "output_type": "execute_result"
    }
   ],
   "source": [
    "# checking for Nan values \n",
    "\n",
    "data_updated.isnull().sum()"
   ]
  },
  {
   "cell_type": "code",
   "execution_count": null,
   "id": "86966121-c866-4b23-81d2-c27682b6a59b",
   "metadata": {},
   "outputs": [],
   "source": []
  },
  {
   "cell_type": "code",
   "execution_count": 17,
   "id": "e7b2850b-9073-4833-b8b5-8020a657d103",
   "metadata": {},
   "outputs": [
    {
     "data": {
      "text/html": [
       "<div>\n",
       "<style scoped>\n",
       "    .dataframe tbody tr th:only-of-type {\n",
       "        vertical-align: middle;\n",
       "    }\n",
       "\n",
       "    .dataframe tbody tr th {\n",
       "        vertical-align: top;\n",
       "    }\n",
       "\n",
       "    .dataframe thead th {\n",
       "        text-align: right;\n",
       "    }\n",
       "</style>\n",
       "<table border=\"1\" class=\"dataframe\">\n",
       "  <thead>\n",
       "    <tr style=\"text-align: right;\">\n",
       "      <th></th>\n",
       "      <th>Id</th>\n",
       "      <th>HelpfulnessNumerator</th>\n",
       "      <th>HelpfulnessDenominator</th>\n",
       "      <th>Score</th>\n",
       "      <th>Time</th>\n",
       "    </tr>\n",
       "  </thead>\n",
       "  <tbody>\n",
       "    <tr>\n",
       "      <th>count</th>\n",
       "      <td>568401.000000</td>\n",
       "      <td>568401.000000</td>\n",
       "      <td>568401.000000</td>\n",
       "      <td>568401.000000</td>\n",
       "      <td>568401</td>\n",
       "    </tr>\n",
       "    <tr>\n",
       "      <th>mean</th>\n",
       "      <td>284228.120582</td>\n",
       "      <td>1.743903</td>\n",
       "      <td>2.227911</td>\n",
       "      <td>4.183297</td>\n",
       "      <td>1970-01-01 00:00:01.296260632</td>\n",
       "    </tr>\n",
       "    <tr>\n",
       "      <th>min</th>\n",
       "      <td>1.000000</td>\n",
       "      <td>0.000000</td>\n",
       "      <td>0.000000</td>\n",
       "      <td>1.000000</td>\n",
       "      <td>1970-01-01 00:00:00.939340800</td>\n",
       "    </tr>\n",
       "    <tr>\n",
       "      <th>25%</th>\n",
       "      <td>142116.000000</td>\n",
       "      <td>0.000000</td>\n",
       "      <td>0.000000</td>\n",
       "      <td>4.000000</td>\n",
       "      <td>1970-01-01 00:00:01.271289600</td>\n",
       "    </tr>\n",
       "    <tr>\n",
       "      <th>50%</th>\n",
       "      <td>284225.000000</td>\n",
       "      <td>0.000000</td>\n",
       "      <td>1.000000</td>\n",
       "      <td>5.000000</td>\n",
       "      <td>1970-01-01 00:00:01.311120</td>\n",
       "    </tr>\n",
       "    <tr>\n",
       "      <th>75%</th>\n",
       "      <td>426342.000000</td>\n",
       "      <td>2.000000</td>\n",
       "      <td>2.000000</td>\n",
       "      <td>5.000000</td>\n",
       "      <td>1970-01-01 00:00:01.332720</td>\n",
       "    </tr>\n",
       "    <tr>\n",
       "      <th>max</th>\n",
       "      <td>568454.000000</td>\n",
       "      <td>866.000000</td>\n",
       "      <td>923.000000</td>\n",
       "      <td>5.000000</td>\n",
       "      <td>1970-01-01 00:00:01.351209600</td>\n",
       "    </tr>\n",
       "    <tr>\n",
       "      <th>std</th>\n",
       "      <td>164098.955187</td>\n",
       "      <td>7.636845</td>\n",
       "      <td>8.288820</td>\n",
       "      <td>1.310376</td>\n",
       "      <td>NaN</td>\n",
       "    </tr>\n",
       "  </tbody>\n",
       "</table>\n",
       "</div>"
      ],
      "text/plain": [
       "                  Id  HelpfulnessNumerator  HelpfulnessDenominator  \\\n",
       "count  568401.000000         568401.000000           568401.000000   \n",
       "mean   284228.120582              1.743903                2.227911   \n",
       "min         1.000000              0.000000                0.000000   \n",
       "25%    142116.000000              0.000000                0.000000   \n",
       "50%    284225.000000              0.000000                1.000000   \n",
       "75%    426342.000000              2.000000                2.000000   \n",
       "max    568454.000000            866.000000              923.000000   \n",
       "std    164098.955187              7.636845                8.288820   \n",
       "\n",
       "               Score                           Time  \n",
       "count  568401.000000                         568401  \n",
       "mean        4.183297  1970-01-01 00:00:01.296260632  \n",
       "min         1.000000  1970-01-01 00:00:00.939340800  \n",
       "25%         4.000000  1970-01-01 00:00:01.271289600  \n",
       "50%         5.000000     1970-01-01 00:00:01.311120  \n",
       "75%         5.000000     1970-01-01 00:00:01.332720  \n",
       "max         5.000000  1970-01-01 00:00:01.351209600  \n",
       "std         1.310376                            NaN  "
      ]
     },
     "execution_count": 17,
     "metadata": {},
     "output_type": "execute_result"
    }
   ],
   "source": [
    "# describing the data \n",
    "\n",
    "data_updated.describe()"
   ]
  },
  {
   "cell_type": "code",
   "execution_count": null,
   "id": "778e72ca-791e-4b12-be82-35fd8340e467",
   "metadata": {},
   "outputs": [],
   "source": []
  },
  {
   "cell_type": "code",
   "execution_count": 19,
   "id": "eebec7cb-02a0-4b17-a630-94dca691ec25",
   "metadata": {},
   "outputs": [
    {
     "data": {
      "text/plain": [
       "Index(['Id', 'ProductId', 'UserId', 'ProfileName', 'HelpfulnessNumerator',\n",
       "       'HelpfulnessDenominator', 'Score', 'Time', 'Summary', 'Text'],\n",
       "      dtype='object')"
      ]
     },
     "execution_count": 19,
     "metadata": {},
     "output_type": "execute_result"
    }
   ],
   "source": [
    "# fetching usefull column for analysis \n",
    "\n",
    "data_updated.columns"
   ]
  },
  {
   "cell_type": "code",
   "execution_count": 21,
   "id": "289febb1-e5f0-4d0e-8335-4d1dc5d65e03",
   "metadata": {},
   "outputs": [],
   "source": [
    "product_review = data_updated.get([\"UserId\" , \"ProductId\" , \"Score\" , \"Text\"])"
   ]
  },
  {
   "cell_type": "code",
   "execution_count": 23,
   "id": "7f45c57f-d0c8-4f07-a11c-4f210a3a9a74",
   "metadata": {},
   "outputs": [],
   "source": [
    "# choosing sample from the large dataset \n",
    "\n",
    "product_review= product_review.sample(1000)"
   ]
  },
  {
   "cell_type": "code",
   "execution_count": 25,
   "id": "0f3a8f5f-3f31-49a1-9d1d-0b30a84ab658",
   "metadata": {},
   "outputs": [
    {
     "data": {
      "text/html": [
       "<div>\n",
       "<style scoped>\n",
       "    .dataframe tbody tr th:only-of-type {\n",
       "        vertical-align: middle;\n",
       "    }\n",
       "\n",
       "    .dataframe tbody tr th {\n",
       "        vertical-align: top;\n",
       "    }\n",
       "\n",
       "    .dataframe thead th {\n",
       "        text-align: right;\n",
       "    }\n",
       "</style>\n",
       "<table border=\"1\" class=\"dataframe\">\n",
       "  <thead>\n",
       "    <tr style=\"text-align: right;\">\n",
       "      <th></th>\n",
       "      <th>UserId</th>\n",
       "      <th>ProductId</th>\n",
       "      <th>Score</th>\n",
       "      <th>Text</th>\n",
       "    </tr>\n",
       "  </thead>\n",
       "  <tbody>\n",
       "    <tr>\n",
       "      <th>10834</th>\n",
       "      <td>A3HTMUB72A5P79</td>\n",
       "      <td>B0034KP00S</td>\n",
       "      <td>1</td>\n",
       "      <td>At the time of purchase, the production descri...</td>\n",
       "    </tr>\n",
       "    <tr>\n",
       "      <th>67541</th>\n",
       "      <td>A2VVOX786E95FJ</td>\n",
       "      <td>B00028OHJA</td>\n",
       "      <td>2</td>\n",
       "      <td>If what I ordered and what I received were act...</td>\n",
       "    </tr>\n",
       "    <tr>\n",
       "      <th>389416</th>\n",
       "      <td>A1LV14I3QX7TQC</td>\n",
       "      <td>B000HTJH58</td>\n",
       "      <td>5</td>\n",
       "      <td>I've tried a few of Bakery On Main's gluten-fr...</td>\n",
       "    </tr>\n",
       "    <tr>\n",
       "      <th>422897</th>\n",
       "      <td>A192FZK8BO3O4X</td>\n",
       "      <td>B0040IWJ5W</td>\n",
       "      <td>5</td>\n",
       "      <td>This Pillsbury Cake Mix is the best.  It is ou...</td>\n",
       "    </tr>\n",
       "    <tr>\n",
       "      <th>110888</th>\n",
       "      <td>AE4CSAQTJ0Y1O</td>\n",
       "      <td>B0085YB426</td>\n",
       "      <td>1</td>\n",
       "      <td>This coffee has a really bitter taste and leav...</td>\n",
       "    </tr>\n",
       "  </tbody>\n",
       "</table>\n",
       "</div>"
      ],
      "text/plain": [
       "                UserId   ProductId  Score  \\\n",
       "10834   A3HTMUB72A5P79  B0034KP00S      1   \n",
       "67541   A2VVOX786E95FJ  B00028OHJA      2   \n",
       "389416  A1LV14I3QX7TQC  B000HTJH58      5   \n",
       "422897  A192FZK8BO3O4X  B0040IWJ5W      5   \n",
       "110888   AE4CSAQTJ0Y1O  B0085YB426      1   \n",
       "\n",
       "                                                     Text  \n",
       "10834   At the time of purchase, the production descri...  \n",
       "67541   If what I ordered and what I received were act...  \n",
       "389416  I've tried a few of Bakery On Main's gluten-fr...  \n",
       "422897  This Pillsbury Cake Mix is the best.  It is ou...  \n",
       "110888  This coffee has a really bitter taste and leav...  "
      ]
     },
     "execution_count": 25,
     "metadata": {},
     "output_type": "execute_result"
    }
   ],
   "source": [
    "product_review.head()"
   ]
  },
  {
   "cell_type": "code",
   "execution_count": null,
   "id": "5f2c1585-5038-4a6c-a888-56ba1ebb0fb9",
   "metadata": {},
   "outputs": [],
   "source": []
  },
  {
   "cell_type": "code",
   "execution_count": 28,
   "id": "b377fd3c-f495-47a6-af8e-a512c486a2a7",
   "metadata": {},
   "outputs": [],
   "source": [
    "# applying sentimental analysis \n",
    "\n",
    "def get_text(text):\n",
    "    return TextBlob(text).sentiment.polarity\n",
    "\n",
    "\n",
    "product_review['sentiment'] = product_review['Text'].apply(get_text)"
   ]
  },
  {
   "cell_type": "code",
   "execution_count": null,
   "id": "b358c7e3-7e68-4cec-bc4e-01459aa69c9f",
   "metadata": {},
   "outputs": [],
   "source": []
  },
  {
   "cell_type": "code",
   "execution_count": 30,
   "id": "d27cf12d-e366-4b47-83da-e98c85ca881f",
   "metadata": {},
   "outputs": [
    {
     "data": {
      "text/html": [
       "<div>\n",
       "<style scoped>\n",
       "    .dataframe tbody tr th:only-of-type {\n",
       "        vertical-align: middle;\n",
       "    }\n",
       "\n",
       "    .dataframe tbody tr th {\n",
       "        vertical-align: top;\n",
       "    }\n",
       "\n",
       "    .dataframe thead th {\n",
       "        text-align: right;\n",
       "    }\n",
       "</style>\n",
       "<table border=\"1\" class=\"dataframe\">\n",
       "  <thead>\n",
       "    <tr style=\"text-align: right;\">\n",
       "      <th></th>\n",
       "      <th>UserId</th>\n",
       "      <th>ProductId</th>\n",
       "      <th>Score</th>\n",
       "      <th>Text</th>\n",
       "      <th>sentiment</th>\n",
       "    </tr>\n",
       "  </thead>\n",
       "  <tbody>\n",
       "    <tr>\n",
       "      <th>10834</th>\n",
       "      <td>A3HTMUB72A5P79</td>\n",
       "      <td>B0034KP00S</td>\n",
       "      <td>1</td>\n",
       "      <td>At the time of purchase, the production descri...</td>\n",
       "      <td>0.069643</td>\n",
       "    </tr>\n",
       "    <tr>\n",
       "      <th>67541</th>\n",
       "      <td>A2VVOX786E95FJ</td>\n",
       "      <td>B00028OHJA</td>\n",
       "      <td>2</td>\n",
       "      <td>If what I ordered and what I received were act...</td>\n",
       "      <td>0.161111</td>\n",
       "    </tr>\n",
       "    <tr>\n",
       "      <th>389416</th>\n",
       "      <td>A1LV14I3QX7TQC</td>\n",
       "      <td>B000HTJH58</td>\n",
       "      <td>5</td>\n",
       "      <td>I've tried a few of Bakery On Main's gluten-fr...</td>\n",
       "      <td>0.111376</td>\n",
       "    </tr>\n",
       "    <tr>\n",
       "      <th>422897</th>\n",
       "      <td>A192FZK8BO3O4X</td>\n",
       "      <td>B0040IWJ5W</td>\n",
       "      <td>5</td>\n",
       "      <td>This Pillsbury Cake Mix is the best.  It is ou...</td>\n",
       "      <td>0.780000</td>\n",
       "    </tr>\n",
       "    <tr>\n",
       "      <th>110888</th>\n",
       "      <td>AE4CSAQTJ0Y1O</td>\n",
       "      <td>B0085YB426</td>\n",
       "      <td>1</td>\n",
       "      <td>This coffee has a really bitter taste and leav...</td>\n",
       "      <td>0.116667</td>\n",
       "    </tr>\n",
       "    <tr>\n",
       "      <th>...</th>\n",
       "      <td>...</td>\n",
       "      <td>...</td>\n",
       "      <td>...</td>\n",
       "      <td>...</td>\n",
       "      <td>...</td>\n",
       "    </tr>\n",
       "    <tr>\n",
       "      <th>438701</th>\n",
       "      <td>A2ITQBMQSS7P0D</td>\n",
       "      <td>B005HGAV8I</td>\n",
       "      <td>2</td>\n",
       "      <td>We ordered this package of 35 because it had t...</td>\n",
       "      <td>-0.195312</td>\n",
       "    </tr>\n",
       "    <tr>\n",
       "      <th>69703</th>\n",
       "      <td>A3J9MVICLD48E3</td>\n",
       "      <td>B003CK7O36</td>\n",
       "      <td>5</td>\n",
       "      <td>Bought this at a public store a few years ago ...</td>\n",
       "      <td>0.244792</td>\n",
       "    </tr>\n",
       "    <tr>\n",
       "      <th>511426</th>\n",
       "      <td>A1VHCPTDTTIZ9T</td>\n",
       "      <td>B001A5VLYS</td>\n",
       "      <td>4</td>\n",
       "      <td>This tea surprised me. I tend to like strong f...</td>\n",
       "      <td>0.462121</td>\n",
       "    </tr>\n",
       "    <tr>\n",
       "      <th>156531</th>\n",
       "      <td>A2GR58HBGSNN46</td>\n",
       "      <td>B000E48IMY</td>\n",
       "      <td>5</td>\n",
       "      <td>Something a morning, afternoon, or any time of...</td>\n",
       "      <td>0.450000</td>\n",
       "    </tr>\n",
       "    <tr>\n",
       "      <th>512058</th>\n",
       "      <td>A1FJOH6Q93DMZE</td>\n",
       "      <td>B001E6IUG0</td>\n",
       "      <td>5</td>\n",
       "      <td>Usually, you can only get the Cinnamon granola...</td>\n",
       "      <td>0.350000</td>\n",
       "    </tr>\n",
       "  </tbody>\n",
       "</table>\n",
       "<p>1000 rows × 5 columns</p>\n",
       "</div>"
      ],
      "text/plain": [
       "                UserId   ProductId  Score  \\\n",
       "10834   A3HTMUB72A5P79  B0034KP00S      1   \n",
       "67541   A2VVOX786E95FJ  B00028OHJA      2   \n",
       "389416  A1LV14I3QX7TQC  B000HTJH58      5   \n",
       "422897  A192FZK8BO3O4X  B0040IWJ5W      5   \n",
       "110888   AE4CSAQTJ0Y1O  B0085YB426      1   \n",
       "...                ...         ...    ...   \n",
       "438701  A2ITQBMQSS7P0D  B005HGAV8I      2   \n",
       "69703   A3J9MVICLD48E3  B003CK7O36      5   \n",
       "511426  A1VHCPTDTTIZ9T  B001A5VLYS      4   \n",
       "156531  A2GR58HBGSNN46  B000E48IMY      5   \n",
       "512058  A1FJOH6Q93DMZE  B001E6IUG0      5   \n",
       "\n",
       "                                                     Text  sentiment  \n",
       "10834   At the time of purchase, the production descri...   0.069643  \n",
       "67541   If what I ordered and what I received were act...   0.161111  \n",
       "389416  I've tried a few of Bakery On Main's gluten-fr...   0.111376  \n",
       "422897  This Pillsbury Cake Mix is the best.  It is ou...   0.780000  \n",
       "110888  This coffee has a really bitter taste and leav...   0.116667  \n",
       "...                                                   ...        ...  \n",
       "438701  We ordered this package of 35 because it had t...  -0.195312  \n",
       "69703   Bought this at a public store a few years ago ...   0.244792  \n",
       "511426  This tea surprised me. I tend to like strong f...   0.462121  \n",
       "156531  Something a morning, afternoon, or any time of...   0.450000  \n",
       "512058  Usually, you can only get the Cinnamon granola...   0.350000  \n",
       "\n",
       "[1000 rows x 5 columns]"
      ]
     },
     "execution_count": 30,
     "metadata": {},
     "output_type": "execute_result"
    }
   ],
   "source": [
    "product_review"
   ]
  },
  {
   "cell_type": "code",
   "execution_count": null,
   "id": "fb583358-1c8c-4ada-8436-afb376d0e168",
   "metadata": {},
   "outputs": [],
   "source": []
  },
  {
   "cell_type": "code",
   "execution_count": 55,
   "id": "06178fa3-69ea-4d37-b519-734944819d4c",
   "metadata": {},
   "outputs": [],
   "source": [
    "# applaying labels \n",
    "def get_score(polarity) :\n",
    "    if polarity < -0.05:\n",
    "            return \"Negative\"\n",
    "    elif -0.05 <= polarity <= 0.05:\n",
    "            return \"Neutral\"\n",
    "    else:\n",
    "        return \"Positive\"\n",
    "\n",
    "\n",
    "product_review['sentiment_label'] = product_review['sentiment'].apply(get_score)"
   ]
  },
  {
   "cell_type": "code",
   "execution_count": 57,
   "id": "295b1bd8-3186-4762-a4a4-ee8b0f6b8eed",
   "metadata": {},
   "outputs": [
    {
     "data": {
      "text/html": [
       "<div>\n",
       "<style scoped>\n",
       "    .dataframe tbody tr th:only-of-type {\n",
       "        vertical-align: middle;\n",
       "    }\n",
       "\n",
       "    .dataframe tbody tr th {\n",
       "        vertical-align: top;\n",
       "    }\n",
       "\n",
       "    .dataframe thead th {\n",
       "        text-align: right;\n",
       "    }\n",
       "</style>\n",
       "<table border=\"1\" class=\"dataframe\">\n",
       "  <thead>\n",
       "    <tr style=\"text-align: right;\">\n",
       "      <th></th>\n",
       "      <th>UserId</th>\n",
       "      <th>ProductId</th>\n",
       "      <th>Score</th>\n",
       "      <th>Text</th>\n",
       "      <th>sentiment</th>\n",
       "      <th>sentiment_label</th>\n",
       "    </tr>\n",
       "  </thead>\n",
       "  <tbody>\n",
       "    <tr>\n",
       "      <th>10834</th>\n",
       "      <td>A3HTMUB72A5P79</td>\n",
       "      <td>B0034KP00S</td>\n",
       "      <td>1</td>\n",
       "      <td>At the time of purchase, the production descri...</td>\n",
       "      <td>0.069643</td>\n",
       "      <td>Positive</td>\n",
       "    </tr>\n",
       "    <tr>\n",
       "      <th>67541</th>\n",
       "      <td>A2VVOX786E95FJ</td>\n",
       "      <td>B00028OHJA</td>\n",
       "      <td>2</td>\n",
       "      <td>If what I ordered and what I received were act...</td>\n",
       "      <td>0.161111</td>\n",
       "      <td>Positive</td>\n",
       "    </tr>\n",
       "    <tr>\n",
       "      <th>389416</th>\n",
       "      <td>A1LV14I3QX7TQC</td>\n",
       "      <td>B000HTJH58</td>\n",
       "      <td>5</td>\n",
       "      <td>I've tried a few of Bakery On Main's gluten-fr...</td>\n",
       "      <td>0.111376</td>\n",
       "      <td>Positive</td>\n",
       "    </tr>\n",
       "    <tr>\n",
       "      <th>422897</th>\n",
       "      <td>A192FZK8BO3O4X</td>\n",
       "      <td>B0040IWJ5W</td>\n",
       "      <td>5</td>\n",
       "      <td>This Pillsbury Cake Mix is the best.  It is ou...</td>\n",
       "      <td>0.780000</td>\n",
       "      <td>Positive</td>\n",
       "    </tr>\n",
       "    <tr>\n",
       "      <th>110888</th>\n",
       "      <td>AE4CSAQTJ0Y1O</td>\n",
       "      <td>B0085YB426</td>\n",
       "      <td>1</td>\n",
       "      <td>This coffee has a really bitter taste and leav...</td>\n",
       "      <td>0.116667</td>\n",
       "      <td>Positive</td>\n",
       "    </tr>\n",
       "  </tbody>\n",
       "</table>\n",
       "</div>"
      ],
      "text/plain": [
       "                UserId   ProductId  Score  \\\n",
       "10834   A3HTMUB72A5P79  B0034KP00S      1   \n",
       "67541   A2VVOX786E95FJ  B00028OHJA      2   \n",
       "389416  A1LV14I3QX7TQC  B000HTJH58      5   \n",
       "422897  A192FZK8BO3O4X  B0040IWJ5W      5   \n",
       "110888   AE4CSAQTJ0Y1O  B0085YB426      1   \n",
       "\n",
       "                                                     Text  sentiment  \\\n",
       "10834   At the time of purchase, the production descri...   0.069643   \n",
       "67541   If what I ordered and what I received were act...   0.161111   \n",
       "389416  I've tried a few of Bakery On Main's gluten-fr...   0.111376   \n",
       "422897  This Pillsbury Cake Mix is the best.  It is ou...   0.780000   \n",
       "110888  This coffee has a really bitter taste and leav...   0.116667   \n",
       "\n",
       "       sentiment_label  \n",
       "10834         Positive  \n",
       "67541         Positive  \n",
       "389416        Positive  \n",
       "422897        Positive  \n",
       "110888        Positive  "
      ]
     },
     "execution_count": 57,
     "metadata": {},
     "output_type": "execute_result"
    }
   ],
   "source": [
    "product_review .head()"
   ]
  },
  {
   "cell_type": "code",
   "execution_count": 44,
   "id": "b39a63de-b7d3-4eab-9c50-b84986c3b97a",
   "metadata": {},
   "outputs": [
    {
     "data": {
      "text/plain": [
       "10834     0.069643\n",
       "67541     0.161111\n",
       "389416    0.111376\n",
       "422897    0.780000\n",
       "110888    0.116667\n",
       "            ...   \n",
       "438701   -0.195312\n",
       "69703     0.244792\n",
       "511426    0.462121\n",
       "156531    0.450000\n",
       "512058    0.350000\n",
       "Name: sentiment, Length: 1000, dtype: float64"
      ]
     },
     "execution_count": 44,
     "metadata": {},
     "output_type": "execute_result"
    }
   ],
   "source": [
    "product_review['sentiment']"
   ]
  },
  {
   "cell_type": "code",
   "execution_count": 59,
   "id": "fb7f20f7-2908-4339-a58b-96c4e3a66895",
   "metadata": {},
   "outputs": [
    {
     "data": {
      "text/plain": [
       "sentiment_label\n",
       "Positive    830\n",
       "Neutral     109\n",
       "Negative     61\n",
       "Name: count, dtype: int64"
      ]
     },
     "execution_count": 59,
     "metadata": {},
     "output_type": "execute_result"
    }
   ],
   "source": [
    "# grouping based on labels \n",
    "\n",
    "product_review['sentiment_label'].value_counts()"
   ]
  },
  {
   "cell_type": "code",
   "execution_count": null,
   "id": "c15ff6c6-e17b-423d-b296-e9de6d4b98a2",
   "metadata": {},
   "outputs": [],
   "source": []
  },
  {
   "cell_type": "code",
   "execution_count": 95,
   "id": "288923ed-03f7-4da8-830c-434da534f890",
   "metadata": {},
   "outputs": [
    {
     "data": {
      "image/png": "[encoded data removed]",
      "text/plain": [
       "<Figure size 1000x500 with 1 Axes>"
      ]
     },
     "metadata": {},
     "output_type": "display_data"
    }
   ],
   "source": [
    "# visualizing the data \n",
    "\n",
    "plt.figure(figsize=(10,5))\n",
    "sns.countplot(product_review['sentiment_label'])\n",
    "plt.title(\" Count of sentiment labels \")\n",
    "plt.show()"
   ]
  },
  {
   "cell_type": "code",
   "execution_count": null,
   "id": "98a7b4b5-3bc8-405e-8ac8-fc67139b9b55",
   "metadata": {},
   "outputs": [],
   "source": []
  },
  {
   "cell_type": "code",
   "execution_count": 103,
   "id": "0eacf716-007c-40b2-a64b-42312b5c40aa",
   "metadata": {},
   "outputs": [
    {
     "data": {
      "image/png": "[encoded data removed]",
      "text/plain": [
       "<Figure size 800x550 with 1 Axes>"
      ]
     },
     "metadata": {},
     "output_type": "display_data"
    }
   ],
   "source": [
    "# pie chart distribution \n",
    "\n",
    "product_review['sentiment_label'].value_counts().plot.pie(autopct=\"%1.1f%%\")\n",
    "plt.title(\"Distribution of sentiment\")\n",
    "plt.show()"
   ]
  },
  {
   "cell_type": "markdown",
   "id": "04b2df45-5785-4ee9-a6a9-53d50311f52f",
   "metadata": {},
   "source": [
    "# insights \n",
    "\n",
    "---\n",
    "\n",
    "**Sentiment Distribution (Sample: 1,000 Data Points)**  \n",
    "- **Positive**: 83% (830 reviews)  \n",
    "- **Neutral**: 10.9% (109 reviews)  \n",
    "- **Negative**: 6.1% (61 reviews)  \n",
    "\n",
    "---\n",
    "\n",
    "### Key Observations:\n",
    "1. **Dominant Sentiment**: Positive reviews overwhelmingly dominate the dataset (83%).\n",
    "2. **Minor Concerns**: Only 6.1% of the data reflects negative sentiment, suggesting limited dissatisfaction.\n",
    "3. **Neutral Context**: ~11% of responses lack strong emotional polarity (e.g., factual statements).\n",
    "\n",
    "---\n",
    "\n"
   ]
  },
  {
   "cell_type": "code",
   "execution_count": null,
   "id": "f8d8530b-3958-4f17-aa0e-6aed75fb35dd",
   "metadata": {},
   "outputs": [],
   "source": []
  },
  {
   "cell_type": "code",
   "execution_count": null,
   "id": "77d94037-b14d-406a-8e24-8f01e11635c8",
   "metadata": {},
   "outputs": [],
   "source": []
  },
  {
   "cell_type": "markdown",
   "id": "269ca7f7-f224-4529-bd10-4133d28b4df5",
   "metadata": {},
   "source": [
    "\n",
    "# Recomndation"
   ]
  },
  {
   "cell_type": "markdown",
   "id": "d4bf0625-33eb-4932-9e89-4328498067c7",
   "metadata": {},
   "source": [
    "\n",
    "---\n",
    "\n",
    "### **1. Leverage Positive Sentiment**\n",
    "-  **Amplify Success Stories**:  \n",
    "  Promote positive reviews on social media, websites, and ads to build trust.  \n",
    "  *Example*: Create a \"Customer Love\" campaign featuring testimonials.\n",
    "  \n",
    "-  **Identify Drivers of Satisfaction**:  \n",
    "  Analyze common themes in positive feedback (e.g., \"user-friendly interface\" or \"fast delivery\") to reinforce strengths.\n",
    "\n",
    "- **Reward Loyal Advocates**:  \n",
    "  Offer discounts or loyalty perks to customers who leave positive reviews.\n",
    "\n",
    "---\n",
    "\n",
    "### **2. Address Neutral Sentiment**\n",
    "- **Engage Neutral Customers**:  \n",
    "  Send follow-up surveys to understand why they’re undecided.  \n",
    "  *Example*: “How can we improve your experience?”\n",
    "  \n",
    "-  **Personalized Outreach**:  \n",
    "  Use targeted emails with special offers to convert neutral users into promoters.\n",
    "\n",
    "---\n",
    "\n",
    "### **3. Mitigate Negative Sentiment**\n",
    "-  **Prioritize Complaint Resolution**:  \n",
    "  Assign a dedicated team to resolve issues from negative feedback within 24 hours.  \n",
    "\n",
    "-  **Root Cause Analysis**:  \n",
    "  Identify recurring pain points (e.g., “slow customer support” or “product defects”) and implement fixes.  \n",
    "\n",
    "-  **Turn Detractors into Advocates**:  \n",
    "  Offer refunds/replacements and follow up to ensure satisfaction.  \n",
    "\n",
    "\n",
    "---\n",
    "\n",
    "### **4. Long-Term Strategies**\n",
    "- **Continuous Monitoring**:  \n",
    "  Automate sentiment tracking to detect shifts in real-time (e.g., sudden spikes in negativity).  \n",
    "\n",
    "-  **Benchmark Against Competitors**:  \n",
    "  Compare sentiment scores with industry averages to identify gaps.  \n",
    "\n",
    "- **Invest in Loyalty Programs**:  \n",
    "  Strengthen retention by rewarding repeat customers.  \n",
    "\n",
    "---\n",
    "\n"
   ]
  },
  {
   "cell_type": "code",
   "execution_count": null,
   "id": "c752d3cc-22f7-41ac-8bbb-9426874fde18",
   "metadata": {},
   "outputs": [],
   "source": []
  },
  {
   "cell_type": "code",
   "execution_count": null,
   "id": "80ff407b-39b6-4d19-a2f0-15caf83734d8",
   "metadata": {},
   "outputs": [],
   "source": []
  },
  {
   "cell_type": "code",
   "execution_count": null,
   "id": "fab7db98-4aeb-4f4d-b6ac-45a242b73c5d",
   "metadata": {},
   "outputs": [],
   "source": []
  },
  {
   "cell_type": "code",
   "execution_count": null,
   "id": "ea995388-7943-481b-b7fb-a610548d9954",
   "metadata": {},
   "outputs": [],
   "source": []
  },
  {
   "cell_type": "code",
   "execution_count": null,
   "id": "d6ebac80-0952-4c01-9483-175df9c44513",
   "metadata": {},
   "outputs": [],
   "source": []
  },
  {
   "cell_type": "code",
   "execution_count": null,
   "id": "1813c41b-dcfe-4205-bbfa-fda4be6a697c",
   "metadata": {},
   "outputs": [],
   "source": []
  },
  {
   "cell_type": "code",
   "execution_count": null,
   "id": "ae423dbb-a211-4fd2-9ae4-5cb6979b5db5",
   "metadata": {},
   "outputs": [],
   "source": []
  },
  {
   "cell_type": "code",
   "execution_count": null,
   "id": "c2aa3060-90e5-4e8d-be8a-feb746331a87",
   "metadata": {},
   "outputs": [],
   "source": []
  },
  {
   "cell_type": "code",
   "execution_count": null,
   "id": "76034a2f-470a-426e-92a6-041f29c3d163",
   "metadata": {},
   "outputs": [],
   "source": []
  },
  {
   "cell_type": "code",
   "execution_count": null,
   "id": "5089e3ee-95ca-489e-9178-92898c9b8c4e",
   "metadata": {},
   "outputs": [],
   "source": []
  },
  {
   "cell_type": "code",
   "execution_count": null,
   "id": "b7f9eb9d-be57-46b5-8863-3ab806abbc75",
   "metadata": {},
   "outputs": [],
   "source": []
  },
  {
   "cell_type": "code",
   "execution_count": null,
   "id": "b8855f7a-abff-4019-9d5a-e08137c307d2",
   "metadata": {},
   "outputs": [],
   "source": []
  },
  {
   "cell_type": "code",
   "execution_count": null,
   "id": "377d7ff3-89c7-40b0-95b1-fc85c412ca9e",
   "metadata": {},
   "outputs": [],
   "source": []
  },
  {
   "cell_type": "code",
   "execution_count": null,
   "id": "b9ee8f8a-9976-45d0-8340-ac0b8cc98e57",
   "metadata": {},
   "outputs": [],
   "source": []
  },
  {
   "cell_type": "code",
   "execution_count": null,
   "id": "ad1af904-1850-4c19-a1b4-6566192e8a98",
   "metadata": {},
   "outputs": [],
   "source": []
  },
  {
   "cell_type": "code",
   "execution_count": null,
   "id": "08a24717-1b9a-4830-ac3a-56527195bd7a",
   "metadata": {},
   "outputs": [],
   "source": []
  },
  {
   "cell_type": "code",
   "execution_count": null,
   "id": "1aef7053-328d-485e-91cf-cf4b786511cb",
   "metadata": {},
   "outputs": [],
   "source": []
  },
  {
   "cell_type": "code",
   "execution_count": null,
   "id": "c57ac190-bb3d-4e85-87d9-7a54dabd8d3a",
   "metadata": {},
   "outputs": [],
   "source": []
  },
  {
   "cell_type": "code",
   "execution_count": null,
   "id": "9b9f8b2b-627d-47f0-98cd-fd83ee9f37ff",
   "metadata": {},
   "outputs": [],
   "source": []
  },
  {
   "cell_type": "code",
   "execution_count": null,
   "id": "7e5c9deb-b85c-407e-912d-f6dc446fcd87",
   "metadata": {},
   "outputs": [],
   "source": []
  },
  {
   "cell_type": "code",
   "execution_count": null,
   "id": "1067e04a-08b2-4b6b-93e4-20eb8baaf46f",
   "metadata": {},
   "outputs": [],
   "source": []
  }
 ],
 "metadata": {
  "kernelspec": {
   "display_name": "Python 3 (ipykernel)",
   "language": "python",
   "name": "python3"
  },
  "language_info": {
   "codemirror_mode": {
    "name": "ipython",
    "version": 3
   },
   "file_extension": ".py",
   "mimetype": "text/x-python",
   "name": "python",
   "nbconvert_exporter": "python",
   "pygments_lexer": "ipython3",
   "version": "3.11.7"
  },
  "widgets": {
   "application/vnd.jupyter.widget-state+json": {
    "state": {},
    "version_major": 2,
    "version_minor": 0
   }
  }
 },
 "nbformat": 4,
 "nbformat_minor": 5
}
